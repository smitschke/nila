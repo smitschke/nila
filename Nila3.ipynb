{
 "cells": [
  {
   "cell_type": "code",
   "execution_count": 1,
   "id": "b67ef61d",
   "metadata": {},
   "outputs": [],
   "source": [
    "#set up a mongoDB NoSQL database\n",
    "from pymongo import MongoClient\n",
    "\n",
    "client = MongoClient(\"localhost\",27017)\n",
    "db = client['user_password_db']\n",
    "users = db['users']"
   ]
  },
  {
   "cell_type": "code",
   "execution_count": 2,
   "id": "647fd2e2",
   "metadata": {},
   "outputs": [
    {
     "data": {
      "text/plain": [
       "<pymongo.results.InsertOneResult at 0x27a1d2f7ee0>"
      ]
     },
     "execution_count": 2,
     "metadata": {},
     "output_type": "execute_result"
    }
   ],
   "source": [
    "# Insert some user/password pairs into the database\n",
    "users.insert_one({'username': 'Admin', 'password': '1234'})\n",
    "users.insert_one({'username': 'user1', 'password': 'password1'})\n",
    "users.insert_one({'username': 'user2', 'password': 'password2'})"
   ]
  },
  {
   "cell_type": "code",
   "execution_count": 3,
   "id": "d7b4d109",
   "metadata": {},
   "outputs": [],
   "source": [
    "#imports for flask\n",
    "from flask import Flask, render_template, redirect, url_for\n",
    "from flask_wtf import FlaskForm\n",
    "from wtforms import StringField, PasswordField, SubmitField # to create respective fields in the login.html\n",
    "from wtforms.validators import DataRequired #to check if user input is empty\n"
   ]
  },
  {
   "cell_type": "code",
   "execution_count": 4,
   "id": "1e4c2a24",
   "metadata": {},
   "outputs": [],
   "source": [
    "app = Flask(__name__)\n",
    "app.config['SECRET_KEY'] = 'secret_key'\n",
    "app.config['WTF_CSRF_ENABLED'] = False"
   ]
  },
  {
   "cell_type": "code",
   "execution_count": 5,
   "id": "7a606cec",
   "metadata": {},
   "outputs": [],
   "source": [
    "#define fields for the login.html\n",
    "class LoginForm(FlaskForm):\n",
    "    username = StringField('Username', validators=[DataRequired()])\n",
    "    password = PasswordField('Password', validators=[DataRequired()])\n",
    "    submit = SubmitField('Submit')"
   ]
  },
  {
   "cell_type": "code",
   "execution_count": 6,
   "id": "b65b9ca7",
   "metadata": {},
   "outputs": [],
   "source": [
    "#handles redirection to initial login.html page \n",
    "#aswell as redirection to index.html if both username and password are entered and the submit button is pressed\n",
    "import json\n",
    "@app.route('/', methods=['GET', 'POST'])\n",
    "def login():\n",
    "    form = LoginForm()\n",
    "    if form.validate_on_submit():\n",
    "        print(f\"The user entered the following data: {form.data}\")\n",
    "        #check if the user is stored in the mongoDB database:\n",
    "        user_entered = users.find_one({'username': form.username.data})\n",
    "        if user_entered:\n",
    "            print(f\"the user was found in the database: {user_entered}\")\n",
    "            password_entered = form.password.data\n",
    "            #if user_entered['password'] == password_entered: \n",
    "            #the previous line is safe since the comparison checks for data types and: string!=dictionary\n",
    "            \n",
    "            results = users.find_one({'username': form.username.data, 'password': password_entered})\n",
    "            if results:\n",
    "                print(f\"The password was correct. The user entered: {password_entered}\")\n",
    "                print(f\"It matches the database password: {user_entered['password']}\")\n",
    "                return redirect(url_for('index')) \n",
    "            else:\n",
    "                #try again, allowing code\n",
    "                condition = eval(password_entered)  #allows code to be in here\n",
    "                results = users.find_one({'username': form.username.data, 'password': condition})\n",
    "                if results:\n",
    "                    print(f\"The password was accepted. The user entered: {password_entered}\")\n",
    "                    print(f\"It matches the database password: {user_entered['password']}\")\n",
    "                    return redirect(url_for('index'))\n",
    "                else:    \n",
    "                    print(f\"The password was incorrect: {password_entered}\")\n",
    "                    print(f\"It should have been: {user_entered['password']}\")\n",
    "                    return render_template('login.html', form=form)\n",
    "        else:\n",
    "            print(f\"the user was not found in the database: {user_entered}\")\n",
    "            return render_template('login.html', form=form)\n",
    "    else:\n",
    "        # print form data and errors for debugging\n",
    "        print(f\"The user entered the following data: {form.data}\")\n",
    "        print(\"Note that the first call is handled as if the user submits no data\")\n",
    "        print(form.errors)\n",
    "    return render_template('login.html', form=form)"
   ]
  },
  {
   "cell_type": "code",
   "execution_count": null,
   "id": "fda20191",
   "metadata": {},
   "outputs": [],
   "source": []
  },
  {
   "cell_type": "code",
   "execution_count": 7,
   "id": "a7ccc152",
   "metadata": {},
   "outputs": [],
   "source": [
    "#redirects to index.html and defines the content of it\n",
    "@app.route('/index')\n",
    "def index():\n",
    "    user = 'Admin'\n",
    "    posts = [{'author': {'username': 'User 1'}, 'body': 'Post 1'},\n",
    "        {'author': {'username': 'User 2'}, 'body': 'Post 2'}]\n",
    "    return render_template('index.html', user=user, posts=posts)"
   ]
  },
  {
   "cell_type": "code",
   "execution_count": null,
   "id": "44f8b7ce",
   "metadata": {},
   "outputs": [
    {
     "name": "stdout",
     "output_type": "stream",
     "text": [
      " * Serving Flask app '__main__'\n",
      " * Debug mode: off\n"
     ]
    },
    {
     "name": "stderr",
     "output_type": "stream",
     "text": [
      "WARNING: This is a development server. Do not use it in a production deployment. Use a production WSGI server instead.\n",
      " * Running on http://127.0.0.1:5000\n",
      "Press CTRL+C to quit\n",
      "127.0.0.1 - - [11/Jun/2023 15:49:10] \"GET / HTTP/1.1\" 200 -\n"
     ]
    },
    {
     "name": "stdout",
     "output_type": "stream",
     "text": [
      "The user entered the following data: {'username': None, 'password': None, 'submit': False}\n",
      "Note that the first call is handled as if the user submits no data\n",
      "{}\n"
     ]
    },
    {
     "name": "stderr",
     "output_type": "stream",
     "text": [
      "127.0.0.1 - - [11/Jun/2023 15:49:14] \"POST / HTTP/1.1\" 200 -\n"
     ]
    },
    {
     "name": "stdout",
     "output_type": "stream",
     "text": [
      "The user entered the following data: {'username': 'Admin', 'password': '1', 'submit': True}\n",
      "the user was found in the database: {'_id': ObjectId('6485b537383e71eac3747df1'), 'username': 'Admin', 'password': '1234'}\n",
      "The password was incorrect: 1\n",
      "It should have been: 1234\n"
     ]
    },
    {
     "name": "stderr",
     "output_type": "stream",
     "text": [
      "127.0.0.1 - - [11/Jun/2023 15:49:15] \"POST / HTTP/1.1\" 302 -\n",
      "127.0.0.1 - - [11/Jun/2023 15:49:15] \"GET /index HTTP/1.1\" 200 -\n"
     ]
    },
    {
     "name": "stdout",
     "output_type": "stream",
     "text": [
      "The user entered the following data: {'username': 'Admin', 'password': '1234', 'submit': True}\n",
      "the user was found in the database: {'_id': ObjectId('6485b537383e71eac3747df1'), 'username': 'Admin', 'password': '1234'}\n",
      "The password was correct. The user entered: 1234\n",
      "It matches the database password: 1234\n"
     ]
    },
    {
     "name": "stderr",
     "output_type": "stream",
     "text": [
      "127.0.0.1 - - [11/Jun/2023 15:49:27] \"POST / HTTP/1.1\" 302 -\n",
      "127.0.0.1 - - [11/Jun/2023 15:49:27] \"GET /index HTTP/1.1\" 200 -\n"
     ]
    },
    {
     "name": "stdout",
     "output_type": "stream",
     "text": [
      "The user entered the following data: {'username': 'Admin', 'password': \"{'$ne': ''}\", 'submit': True}\n",
      "the user was found in the database: {'_id': ObjectId('6485b537383e71eac3747df1'), 'username': 'Admin', 'password': '1234'}\n",
      "The password was accepted. The user entered: {'$ne': ''}\n",
      "It matches the database password: 1234\n"
     ]
    }
   ],
   "source": [
    "if __name__ == '__main__':\n",
    "    app.run()"
   ]
  },
  {
   "cell_type": "code",
   "execution_count": null,
   "id": "274582cf",
   "metadata": {},
   "outputs": [],
   "source": []
  },
  {
   "cell_type": "code",
   "execution_count": null,
   "id": "72fd6b66",
   "metadata": {},
   "outputs": [],
   "source": []
  },
  {
   "cell_type": "code",
   "execution_count": null,
   "id": "4842090e",
   "metadata": {},
   "outputs": [],
   "source": []
  },
  {
   "cell_type": "code",
   "execution_count": null,
   "id": "f200aa2b",
   "metadata": {},
   "outputs": [],
   "source": []
  },
  {
   "cell_type": "code",
   "execution_count": null,
   "id": "fa608cc2",
   "metadata": {},
   "outputs": [],
   "source": [
    "# use {'$ne': ''}"
   ]
  },
  {
   "cell_type": "code",
   "execution_count": null,
   "id": "a321e65f",
   "metadata": {},
   "outputs": [],
   "source": []
  },
  {
   "cell_type": "code",
   "execution_count": null,
   "id": "cd126abc",
   "metadata": {},
   "outputs": [],
   "source": []
  },
  {
   "cell_type": "code",
   "execution_count": null,
   "id": "c8534ef9",
   "metadata": {},
   "outputs": [],
   "source": []
  },
  {
   "cell_type": "code",
   "execution_count": null,
   "id": "37a4f550",
   "metadata": {},
   "outputs": [],
   "source": []
  },
  {
   "cell_type": "code",
   "execution_count": null,
   "id": "ffe5fb69",
   "metadata": {},
   "outputs": [],
   "source": []
  },
  {
   "cell_type": "code",
   "execution_count": null,
   "id": "0fe3b15f",
   "metadata": {},
   "outputs": [],
   "source": []
  },
  {
   "cell_type": "code",
   "execution_count": null,
   "id": "c2337622",
   "metadata": {},
   "outputs": [],
   "source": []
  }
 ],
 "metadata": {
  "kernelspec": {
   "display_name": "Python 3 (ipykernel)",
   "language": "python",
   "name": "python3"
  },
  "language_info": {
   "codemirror_mode": {
    "name": "ipython",
    "version": 3
   },
   "file_extension": ".py",
   "mimetype": "text/x-python",
   "name": "python",
   "nbconvert_exporter": "python",
   "pygments_lexer": "ipython3",
   "version": "3.11.3"
  }
 },
 "nbformat": 4,
 "nbformat_minor": 5
}
