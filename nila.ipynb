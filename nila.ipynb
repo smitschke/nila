{
 "cells": [
  {
   "cell_type": "code",
   "execution_count": 1,
   "id": "caa0d223",
   "metadata": {},
   "outputs": [],
   "source": [
    "#Import\n",
    "from flask import Flask, request, render_template, redirect, url_for, flash, Blueprint\n",
    "from flask_bootstrap import Bootstrap\n",
    "app = Flask(__name__)\n",
    "Bootstrap(app)\n",
    "import flask_ipywidgets\n",
    "import pymongo\n",
    "from pymongo import MongoClient\n",
    "from ipywidgets.embed import embed_minimal_html\n",
    "\n",
    "from flask_wtf import FlaskForm\n",
    "from flask_wtf.csrf import CSRFProtect\n",
    "from wtforms import StringField, PasswordField, BooleanField, SubmitField\n",
    "from wtforms.validators import DataRequired\n",
    "\n",
    "from flask import g\n",
    "from flask.sessions import SecureCookieSessionInterface\n",
    "from flask_login import user_loaded_from_request\n",
    "from flask_login import LoginManager\n",
    "login_manager = LoginManager()\n"
   ]
  },
  {
   "cell_type": "code",
   "execution_count": 2,
   "id": "e17ac573",
   "metadata": {},
   "outputs": [],
   "source": [
    "#Create client\n",
    "client = MongoClient(\"localhost\",27017)"
   ]
  },
  {
   "cell_type": "code",
   "execution_count": 3,
   "id": "29156b28",
   "metadata": {},
   "outputs": [],
   "source": [
    "#Create db\n",
    "db = client[\"testDB\"]"
   ]
  },
  {
   "cell_type": "code",
   "execution_count": 4,
   "id": "e3093da4",
   "metadata": {},
   "outputs": [],
   "source": [
    "posts = db.posts"
   ]
  },
  {
   "cell_type": "code",
   "execution_count": 5,
   "id": "bffd9e8b",
   "metadata": {},
   "outputs": [],
   "source": [
    "#Reset\n",
    "x = posts.delete_many({})"
   ]
  },
  {
   "cell_type": "code",
   "execution_count": 6,
   "id": "8fb8ad51",
   "metadata": {},
   "outputs": [],
   "source": [
    "users = [{\"user\": \"Admin\",\n",
    "        \"password\": \"topSecret\"},\n",
    "         {\"user\": \"Uschi\",\n",
    "         \"password\": \"secret01\"}]\n",
    "\n",
    "result = posts.insert_many(users)"
   ]
  },
  {
   "cell_type": "code",
   "execution_count": 7,
   "id": "bf02c438",
   "metadata": {},
   "outputs": [],
   "source": [
    "#Logged in User\n",
    "class Users:\n",
    "    def __init__(self, name, passwort):\n",
    "        self.name = name\n",
    "        self.passwort = passwort"
   ]
  },
  {
   "cell_type": "code",
   "execution_count": 8,
   "id": "8c8bf1d1",
   "metadata": {},
   "outputs": [],
   "source": [
    "#Config and Start App\n",
    "app = Flask(__name__)\n",
    "login_manager.init_app(app)\n",
    "csrf = CSRFProtect(app)\n",
    "app.config['WTF_CSRF_CHECK_DEFAULT'] = False\n",
    "app.config['WTF_CSRF_ENABLED'] = False\n",
    "app.config['SECRET_KEY'] = 'you-will-never-guess'"
   ]
  },
  {
   "cell_type": "code",
   "execution_count": 9,
   "id": "045d2995",
   "metadata": {},
   "outputs": [],
   "source": [
    "login_manager.init_app(app)\n",
    "login_manager.session_protection = None\n",
    "#REMEMBER_COOKIE_DURATION = timedelta(minutes=0)\n",
    "\n",
    "@login_manager.user_loader\n",
    "def load_user(user_id):\n",
    "    return User.get(user_id)\n",
    "\n",
    "@app.route('/', methods=['GET', 'POST'])\n",
    "def login():\n",
    "    # Here we use a class of some kind to represent and validate our\n",
    "    # client-side form data. For example, WTForms is a library that will\n",
    "    # handle this for us, and we use a custom LoginForm to validate.\n",
    "    form = LoginForm()\n",
    "    if form.validate_on_submit():\n",
    "        flash('Login requested for user {}'.format(\n",
    "            form.username.data))\n",
    "        u = Users(form.username.data, form.password.data)\n",
    "        for post in posts.find({'user': form.username.data, 'password': form.password.data}):\n",
    "            print(post)\n",
    "            return redirect(url_for('index', username=form.username.data))\n",
    "    return render_template('login.html', title='Sign In', form=form)"
   ]
  },
  {
   "cell_type": "code",
   "execution_count": 10,
   "id": "0220852b",
   "metadata": {},
   "outputs": [],
   "source": [
    "#Form\n",
    "class LoginForm(FlaskForm):\n",
    "    username = StringField('Username', validators=[DataRequired()])\n",
    "    password = PasswordField('Password', validators=[DataRequired()])\n",
    "    submit = SubmitField('Sign In')"
   ]
  },
  {
   "cell_type": "code",
   "execution_count": 11,
   "id": "3dad7523",
   "metadata": {},
   "outputs": [],
   "source": [
    "@app.route('/home', methods=['GET', 'POST'])\n",
    "def index():\n",
    "    username = request.args['username']\n",
    "    user = {'username': username}\n",
    "    return render_template('index.html', title='Sign In', user=user)"
   ]
  },
  {
   "cell_type": "code",
   "execution_count": null,
   "id": "4e3bd95d",
   "metadata": {},
   "outputs": [
    {
     "name": "stdout",
     "output_type": "stream",
     "text": [
      " * Serving Flask app '__main__'\n",
      " * Debug mode: off\n"
     ]
    },
    {
     "name": "stderr",
     "output_type": "stream",
     "text": [
      "WARNING: This is a development server. Do not use it in a production deployment. Use a production WSGI server instead.\n",
      " * Running on http://127.0.0.1:5000\n",
      "Press CTRL+C to quit\n"
     ]
    }
   ],
   "source": [
    "#Run Server\n",
    "app.run(port=5000)"
   ]
  },
  {
   "cell_type": "code",
   "execution_count": null,
   "id": "1cc85dfa",
   "metadata": {},
   "outputs": [],
   "source": []
  }
 ],
 "metadata": {
  "kernelspec": {
   "display_name": "Python 3 (ipykernel)",
   "language": "python",
   "name": "python3"
  },
  "language_info": {
   "codemirror_mode": {
    "name": "ipython",
    "version": 3
   },
   "file_extension": ".py",
   "mimetype": "text/x-python",
   "name": "python",
   "nbconvert_exporter": "python",
   "pygments_lexer": "ipython3",
   "version": "3.11.3"
  }
 },
 "nbformat": 4,
 "nbformat_minor": 5
}
