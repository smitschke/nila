{
 "cells": [
  {
   "cell_type": "code",
   "execution_count": 1,
   "id": "8e8516a7",
   "metadata": {},
   "outputs": [],
   "source": [
    "#Import der benötigten Module\n",
    "import pymongo\n",
    "from pymongo import MongoClient\n",
    "\n",
    "import warnings\n",
    "warnings.filterwarnings('ignore')\n",
    "\n",
    "import ipywidgets as widgets\n",
    "from IPython.display import display, clear_output\n",
    "\n",
    "import pprint"
   ]
  },
  {
   "cell_type": "code",
   "execution_count": 2,
   "id": "99d70cab",
   "metadata": {},
   "outputs": [],
   "source": [
    "#!jupyter nbextension enable --py widgetsnbextension --sys-prefix\n",
    "#!jupyter serverextension enable voila --sys-prefix"
   ]
  },
  {
   "cell_type": "code",
   "execution_count": 3,
   "id": "7dd00591",
   "metadata": {},
   "outputs": [],
   "source": [
    "#Create client\n",
    "client = MongoClient(\"localhost\",27017)"
   ]
  },
  {
   "cell_type": "code",
   "execution_count": 4,
   "id": "e5d2cf82",
   "metadata": {},
   "outputs": [],
   "source": [
    "#Create db\n",
    "db = client[\"testDB\"]"
   ]
  },
  {
   "cell_type": "code",
   "execution_count": 5,
   "id": "2d1a5f73",
   "metadata": {},
   "outputs": [
    {
     "data": {
      "text/plain": [
       "Database(MongoClient(host=['localhost:27017'], document_class=dict, tz_aware=False, connect=True), 'testDB')"
      ]
     },
     "execution_count": 5,
     "metadata": {},
     "output_type": "execute_result"
    }
   ],
   "source": [
    "db"
   ]
  },
  {
   "cell_type": "code",
   "execution_count": 6,
   "id": "ddaab15d",
   "metadata": {},
   "outputs": [],
   "source": [
    "posts = db.posts\n",
    "#collection = db['test-collection']"
   ]
  },
  {
   "cell_type": "code",
   "execution_count": 7,
   "id": "4977676e",
   "metadata": {},
   "outputs": [
    {
     "name": "stdout",
     "output_type": "stream",
     "text": [
      "3  documents deleted.\n"
     ]
    }
   ],
   "source": [
    "x = posts.delete_many({})\n",
    "print(x.deleted_count, \" documents deleted.\") "
   ]
  },
  {
   "cell_type": "code",
   "execution_count": 8,
   "id": "48318c1b",
   "metadata": {},
   "outputs": [
    {
     "data": {
      "text/plain": [
       "[ObjectId('64668b859707a6bb56398af4'),\n",
       " ObjectId('64668b859707a6bb56398af5'),\n",
       " ObjectId('64668b859707a6bb56398af6')]"
      ]
     },
     "execution_count": 8,
     "metadata": {},
     "output_type": "execute_result"
    }
   ],
   "source": [
    "#Todo: hinweis auf einfachen eintrag (keine doppelten bla blub)\n",
    "users = [{\"user\": \"Admin\",\n",
    "        \"password\": \"topSecret\"},\n",
    "         {\"user\": \"Uschi\",\n",
    "         \"password\": \"secret01\"}, \n",
    "         {\"user\": \"Horst\",\n",
    "         \"password\": \"secret02\"}]\n",
    "\n",
    "result = posts.insert_many(users)\n",
    "\n",
    "result.inserted_ids"
   ]
  },
  {
   "cell_type": "code",
   "execution_count": 9,
   "id": "5d7fce73",
   "metadata": {},
   "outputs": [
    {
     "name": "stdout",
     "output_type": "stream",
     "text": [
      "{'_id': ObjectId('64668b859707a6bb56398af4'),\n",
      " 'password': 'topSecret',\n",
      " 'user': 'Admin'}\n"
     ]
    }
   ],
   "source": [
    "for post in posts.find({\"user\": \"Admin\"}):\n",
    "    pprint.pprint(post)"
   ]
  },
  {
   "cell_type": "code",
   "execution_count": 10,
   "id": "cee9346a",
   "metadata": {},
   "outputs": [],
   "source": [
    "#Input Fields\n",
    "name = widgets.Text(description=\"Name:\", placeholder=\"Name\")\n",
    "password = widgets.Password(description=\"Passwort:\", placeholder=\"Passwort\")"
   ]
  },
  {
   "cell_type": "code",
   "execution_count": 11,
   "id": "88afc322",
   "metadata": {},
   "outputs": [],
   "source": [
    "#Send Button\n",
    "button_send = widgets.Button(\n",
    "                description=\"Login\",\n",
    "                tooltip=\"Login\",\n",
    "                style={\"description_width\": \"initial\"})\n",
    "\n",
    "output = widgets.Output()\n",
    "\n",
    "def on_button_clicked(event):\n",
    "    with output:\n",
    "        clear_output()\n",
    "        for post in posts.find({\"user\": name.value, \"password\": password.value}):\n",
    "              pprint.pprint(post)\n",
    "        print(name.value)\n",
    "\n",
    "button_send.on_click(on_button_clicked)\n",
    "\n",
    "vbox_result = widgets.VBox([button_send, output])"
   ]
  },
  {
   "cell_type": "code",
   "execution_count": 12,
   "id": "90e4e0af",
   "metadata": {},
   "outputs": [],
   "source": [
    "text_0 = widgets.HTML(value=\"<h2>Bitte geben Sie Ihre Login-Daten ein</h2>\")\n",
    "\n",
    "vbox_text = widgets.VBox([text_0, name, password, vbox_result])"
   ]
  },
  {
   "cell_type": "code",
   "execution_count": 13,
   "id": "97394c50",
   "metadata": {},
   "outputs": [
    {
     "data": {
      "application/vnd.jupyter.widget-view+json": {
       "model_id": "9ea63e74cbf24aceb7b70bd4da0b8a32",
       "version_major": 2,
       "version_minor": 0
      },
      "text/plain": [
       "HBox(children=(VBox(children=(HTML(value='<h2>Bitte geben Sie Ihre Login-Daten ein</h2>'), Text(value='', desc…"
      ]
     },
     "metadata": {},
     "output_type": "display_data"
    }
   ],
   "source": [
    "page = widgets.HBox([vbox_text])\n",
    "display(page)"
   ]
  },
  {
   "cell_type": "code",
   "execution_count": 14,
   "id": "f30be851",
   "metadata": {},
   "outputs": [],
   "source": [
    "!pip freeze > requirements.txt"
   ]
  },
  {
   "cell_type": "code",
   "execution_count": 15,
   "id": "2c1db682",
   "metadata": {},
   "outputs": [
    {
     "data": {
      "text/html": [
       "<details>\n",
       "<summary>Click to view session information</summary>\n",
       "<pre>\n",
       "-----\n",
       "ipywidgets          8.0.4\n",
       "pymongo             3.12.0\n",
       "session_info        1.0.0\n",
       "-----\n",
       "</pre>\n",
       "<details>\n",
       "<summary>Click to view modules imported as dependencies</summary>\n",
       "<pre>\n",
       "asttokens                   NA\n",
       "backcall                    0.2.0\n",
       "bson                        NA\n",
       "certifi                     2023.05.07\n",
       "colorama                    0.4.6\n",
       "comm                        0.1.2\n",
       "cython_runtime              NA\n",
       "dateutil                    2.8.2\n",
       "debugpy                     1.5.1\n",
       "decorator                   5.1.1\n",
       "executing                   0.8.3\n",
       "importlib_metadata          NA\n",
       "ipykernel                   6.19.2\n",
       "ipython_genutils            0.2.0\n",
       "jedi                        0.18.1\n",
       "nt                          NA\n",
       "ntsecuritycon               NA\n",
       "packaging                   23.0\n",
       "parso                       0.8.3\n",
       "pickleshare                 0.7.5\n",
       "pkg_resources               NA\n",
       "platformdirs                2.5.2\n",
       "prompt_toolkit              3.0.36\n",
       "psutil                      5.9.0\n",
       "pure_eval                   0.2.2\n",
       "pydev_ipython               NA\n",
       "pydevconsole                NA\n",
       "pydevd                      2.6.0\n",
       "pydevd_concurrency_analyser NA\n",
       "pydevd_file_utils           NA\n",
       "pydevd_plugins              NA\n",
       "pydevd_tracing              NA\n",
       "pygments                    2.15.1\n",
       "six                         1.16.0\n",
       "stack_data                  0.2.0\n",
       "tornado                     6.2\n",
       "traitlets                   5.7.1\n",
       "typing_extensions           NA\n",
       "wcwidth                     0.2.5\n",
       "win32api                    NA\n",
       "win32security               NA\n",
       "zipp                        NA\n",
       "zmq                         25.0.2\n",
       "</pre>\n",
       "</details> <!-- seems like this ends pre, so might as well be explicit -->\n",
       "<pre>\n",
       "-----\n",
       "IPython             8.12.0\n",
       "jupyter_client      8.1.0\n",
       "jupyter_core        5.3.0\n",
       "notebook            6.5.4\n",
       "-----\n",
       "Python 3.9.16 (main, Mar  8 2023, 10:39:24) [MSC v.1916 64 bit (AMD64)]\n",
       "Windows-10-10.0.22621-SP0\n",
       "-----\n",
       "Session information updated at 2023-05-18 22:33\n",
       "</pre>\n",
       "</details>"
      ],
      "text/plain": [
       "<IPython.core.display.HTML object>"
      ]
     },
     "execution_count": 15,
     "metadata": {},
     "output_type": "execute_result"
    }
   ],
   "source": [
    "import session_info\n",
    "\n",
    "session_info.show()"
   ]
  }
 ],
 "metadata": {
  "kernelspec": {
   "display_name": "Python 3 (ipykernel)",
   "language": "python",
   "name": "python3"
  },
  "language_info": {
   "codemirror_mode": {
    "name": "ipython",
    "version": 3
   },
   "file_extension": ".py",
   "mimetype": "text/x-python",
   "name": "python",
   "nbconvert_exporter": "python",
   "pygments_lexer": "ipython3",
   "version": "3.9.16"
  }
 },
 "nbformat": 4,
 "nbformat_minor": 5
}
