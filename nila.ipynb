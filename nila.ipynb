{
 "cells": [
  {
   "cell_type": "code",
   "execution_count": 11,
   "id": "8e8516a7",
   "metadata": {},
   "outputs": [],
   "source": [
    "#Import der benötigten Module\n",
    "import pymongo\n",
    "from pymongo import MongoClient"
   ]
  },
  {
   "cell_type": "code",
   "execution_count": 12,
   "id": "7dd00591",
   "metadata": {},
   "outputs": [],
   "source": [
    "#Create client\n",
    "client = MongoClient(\"localhost\",27017)"
   ]
  },
  {
   "cell_type": "code",
   "execution_count": 13,
   "id": "e5d2cf82",
   "metadata": {},
   "outputs": [],
   "source": [
    "#Create db\n",
    "db = client[\"testDB\"]"
   ]
  },
  {
   "cell_type": "code",
   "execution_count": 14,
   "id": "2d1a5f73",
   "metadata": {},
   "outputs": [
    {
     "data": {
      "text/plain": [
       "Database(MongoClient(host=['localhost:27017'], document_class=dict, tz_aware=False, connect=True), 'testDB')"
      ]
     },
     "execution_count": 14,
     "metadata": {},
     "output_type": "execute_result"
    }
   ],
   "source": [
    "db"
   ]
  },
  {
   "cell_type": "code",
   "execution_count": 5,
   "id": "ddaab15d",
   "metadata": {},
   "outputs": [],
   "source": [
    "collection = db.test_collection\n",
    "#collection = db['test-collection']"
   ]
  },
  {
   "cell_type": "code",
   "execution_count": 15,
   "id": "48318c1b",
   "metadata": {},
   "outputs": [],
   "source": [
    "users = [{\"user\": \"Admin\",\n",
    "        \"password\": \"topSecret\"},\n",
    "         {\"user\": \"Uschi\",\n",
    "         \"password\": \"secret01\"}, \n",
    "         {\"user\": \"Horst\",\n",
    "         \"password\": \"secret02\"}]"
   ]
  },
  {
   "cell_type": "code",
   "execution_count": 16,
   "id": "f30be851",
   "metadata": {},
   "outputs": [],
   "source": [
    "!pip freeze > requirements.txt"
   ]
  }
 ],
 "metadata": {
  "kernelspec": {
   "display_name": "Python 3 (ipykernel)",
   "language": "python",
   "name": "python3"
  },
  "language_info": {
   "codemirror_mode": {
    "name": "ipython",
    "version": 3
   },
   "file_extension": ".py",
   "mimetype": "text/x-python",
   "name": "python",
   "nbconvert_exporter": "python",
   "pygments_lexer": "ipython3",
   "version": "3.9.16"
  }
 },
 "nbformat": 4,
 "nbformat_minor": 5
}
